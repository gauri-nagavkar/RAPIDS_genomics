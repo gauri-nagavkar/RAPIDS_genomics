{
 "cells": [
  {
   "cell_type": "markdown",
   "metadata": {
    "id": "WASIlSmwdLIL"
   },
   "source": [
    "# Synthetic Bioinformatics Data Analysis Using GPU-Accelerated Methods\n",
    "\n",
    "This notebook explores the performance of various bioinformatics operations using both **CPU-based** and **GPU-accelerated** methods. We generate synthetic data to simulate genotype and phenotype datasets and perform tasks such as **GWAS** and **dimensionality reduction (t-SNE, UMAP and PCA)**.\n",
    "\n",
    "We use **NVIDIA RAPIDS** to leverage GPU acceleration for the analysis and compare its performance to traditional CPU-based methods.\n",
    "\n",
    "## Steps:\n",
    "1. Install required packages.\n",
    "2. Generate synthetic data\n",
    "3. Compare performance of GPU-based RAPIDS vs CPU-based libraries for different tasks.\n",
    "4. Analyze and visualize the results.\n"
   ]
  },
  {
   "cell_type": "markdown",
   "metadata": {
    "id": "8NW7HofSd4HO"
   },
   "source": [
    "## Install packages"
   ]
  },
  {
   "cell_type": "code",
   "execution_count": null,
   "metadata": {
    "colab": {
     "background_save": true
    },
    "id": "JkVhyKmMWt1j"
   },
   "outputs": [],
   "source": [
    "# This get the RAPIDS-Colab install files and test check your GPU.  Run this and the next cell only.\n",
    "# Please read the output of this cell.  If your Colab Instance is not RAPIDS compatible, it will warn you and give you remediation steps.\n",
    "# !git clone https://github.com/rapidsai/rapidsai-csp-utils.git\n",
    "# !python rapidsai-csp-utils/colab/pip-install.py\n"
   ]
  },
  {
   "cell_type": "code",
   "execution_count": null,
   "metadata": {
    "colab": {
     "background_save": true
    },
    "id": "QUUuV1iPUyoR"
   },
   "outputs": [],
   "source": [
    "!export LC_ALL=C.UTF-8\n",
    "!export LANG=C.UTF-8\n",
    "\n",
    "!pip install psutil gputil"
   ]
  },
  {
   "cell_type": "code",
   "execution_count": null,
   "metadata": {
    "colab": {
     "background_save": true
    },
    "id": "6Hzee95Hedic"
   },
   "outputs": [],
   "source": [
    "!pip install umap-learn"
   ]
  },
  {
   "cell_type": "markdown",
   "metadata": {
    "id": "DJ9JDmSzeITZ"
   },
   "source": [
    "## Synthetic Data Generation\n",
    "\n",
    "In this section, we generate synthetic **genotype** and **phenotype** data to simulate a bioinformatics dataset. The genotype data consists of **SNPs** (genetic variants), while the phenotype data corresponds to binary traits.\n",
    "\n",
    "- **Genotype data**: We simulate a matrix where rows represent individuals (samples) and columns represent SNPs.\n",
    "- **Phenotype data**: Binary labels representing a hypothetical trait such as disease presence or hearing status.\n",
    "\n",
    "This synthetic data will be used for various bioinformatics operations throughout the notebook.\n"
   ]
  },
  {
   "cell_type": "code",
   "execution_count": null,
   "metadata": {
    "colab": {
     "background_save": true
    },
    "id": "dnNIWpm0W44g"
   },
   "outputs": [],
   "source": [
    "import numpy as np\n",
    "import pandas as pd\n",
    "import cupy as cp\n",
    "\n",
    "\n",
    "# Function to generate synthetic genotype data\n",
    "def generate_synthetic_data(n_samples, n_snps):\n",
    "    np.random.seed(42)\n",
    "    genotype_matrix_cpu = np.random.randint(0, 3, size=(n_samples, n_snps))\n",
    "    phenotype_data_cpu = np.random.randint(0, 2, size=n_samples)\n",
    "    genotype_matrix_gpu = cp.array(genotype_matrix_cpu)\n",
    "    phenotype_data_gpu = cp.array(phenotype_data_cpu)\n",
    "    return genotype_matrix_cpu, phenotype_data_cpu, genotype_matrix_gpu, phenotype_data_gpu\n",
    "\n",
    "\n",
    "# # Create datasets of varying sizes\n",
    "# datasets = {}\n",
    "# for size in dataset_sizes:\n",
    "#     datasets[size] = generate_synthetic_data(n_samples=1000, n_snps=size)"
   ]
  },
  {
   "cell_type": "markdown",
   "metadata": {
    "id": "qt9k9Mv6eeEd"
   },
   "source": [
    "## Set up CPU and GPU Monitoring\n",
    "\n",
    "This section defines utility functions to monitor system resources during the benchmarking process. Specifically, the functions retrieve:\n",
    "1. **CPU Usage**: The percentage of CPU usage and the amount of memory used by the system.\n",
    "2. **GPU Utilization**: The percentage of GPU usage and memory utilized by the GPU.\n",
    "\n",
    "These metrics help track the resource consumption during operations, which is particularly important when comparing CPU-based (pandas, sklearn) and GPU-based (cuDF, cuML) computations.\n"
   ]
  },
  {
   "cell_type": "code",
   "execution_count": null,
   "metadata": {
    "colab": {
     "background_save": true
    },
    "id": "0JG64R8ceWOH"
   },
   "outputs": [],
   "source": [
    "import psutil\n",
    "import GPUtil\n",
    "\n",
    "# Function to get memory and CPU usage\n",
    "def get_memory_and_cpu_usage():\n",
    "    memory = psutil.virtual_memory()\n",
    "    cpu = psutil.cpu_percent(interval=1)\n",
    "    return {\n",
    "        \"cpu_usage_percent\": cpu,\n",
    "        \"memory_usage_mb\": memory.used / (1024 ** 2),  # Convert bytes to MB\n",
    "        \"memory_total_mb\": memory.total / (1024 ** 2),\n",
    "    }\n",
    "\n",
    "# Function to get GPU utilization and memory usage\n",
    "def get_gpu_utilization():\n",
    "    gpus = GPUtil.getGPUs()\n",
    "    if not gpus:\n",
    "        return {\"gpu_usage_percent\": 0, \"gpu_memory_usage_mb\": 0, \"gpu_memory_total_mb\": 0}\n",
    "\n",
    "    gpu = gpus[0]  # Assuming a single GPU\n",
    "    return {\n",
    "        \"gpu_usage_percent\": gpu.load * 100,  # Convert to percentage\n",
    "        \"gpu_memory_usage_mb\": gpu.memoryUsed,\n",
    "        \"gpu_memory_total_mb\": gpu.memoryTotal,\n",
    "    }"
   ]
  },
  {
   "cell_type": "markdown",
   "metadata": {
    "colab": {
     "base_uri": "https://localhost:8080/"
    },
    "id": "pGINE2oKiGOb",
    "outputId": "9a5265e2-9433-4296-cb02-cf088a2efcc9"
   },
   "source": [
    "## Run benchmarking"
   ]
  },
  {
   "cell_type": "code",
   "execution_count": null,
   "metadata": {
    "colab": {
     "base_uri": "https://localhost:8080/",
     "height": 316
    },
    "id": "oPj6HeDriGLK",
    "outputId": "0211b1b5-9d6c-4330-e905-1705662bfc19"
   },
   "outputs": [],
   "source": [
    "import time\n",
    "from cuml.manifold import TSNE as TSNE_GPU\n",
    "from sklearn.manifold import TSNE as TSNE_CPU\n",
    "from cuml.manifold import UMAP as UMAP_GPU\n",
    "from umap import UMAP as UMAP_CPU\n",
    "from cuml.decomposition import PCA as PCA_GPU\n",
    "from sklearn.decomposition import PCA as PCA_CPU\n",
    "from cuml.linear_model import LogisticRegression as LogisticRegression_GPU\n",
    "from sklearn.linear_model import LogisticRegression as LogisticRegression_CPU\n",
    "from cuml.preprocessing import MinMaxScaler as MinMaxScaler_GPU\n",
    "from sklearn.preprocessing import MinMaxScaler as MinMaxScaler_CPU\n",
    "import cudf\n",
    "\n",
    "\n",
    "# t-SNE analysis (CPU & GPU)\n",
    "def tsne_analysis(genotype_cpu, genotype_gpu):\n",
    "    results = {}\n",
    "\n",
    "    # CPU t-SNE\n",
    "    start_time = time.time()\n",
    "    tsne_cpu = TSNE_CPU(n_components=2, random_state=42)\n",
    "    tsne_cpu.fit_transform(genotype_cpu)\n",
    "    results[\"cpu_tsne\"] = time.time() - start_time\n",
    "    # results[\"cpu_memory_tsne\"] = get_memory_and_cpu_usage()\n",
    "\n",
    "    # GPU t-SNE\n",
    "    start_time = time.time()\n",
    "    tsne_gpu = TSNE_GPU(n_components=2, random_state=42)\n",
    "    tsne_gpu.fit_transform(genotype_gpu)\n",
    "    results[\"gpu_tsne\"] = time.time() - start_time\n",
    "    # results[\"gpu_memory_tsne\"] = get_gpu_utilization()\n",
    "\n",
    "    return results\n",
    "\n",
    "# UMAP analysis (CPU & GPU)\n",
    "def umap_analysis(genotype_cpu, genotype_gpu):\n",
    "    results = {}\n",
    "\n",
    "    # CPU UMAP\n",
    "    start_time = time.time()\n",
    "    umap_cpu = UMAP_CPU(n_components=2, random_state=42)\n",
    "    umap_cpu.fit_transform(genotype_cpu)\n",
    "    results[\"cpu_umap\"] = time.time() - start_time\n",
    "    # results[\"cpu_memory_umap\"] = get_memory_and_cpu_usage()\n",
    "\n",
    "    # GPU UMAP\n",
    "    start_time = time.time()\n",
    "    umap_gpu = UMAP_GPU(n_neighbors=15, n_components=2, random_state=42)\n",
    "    umap_gpu.fit_transform(genotype_gpu)\n",
    "    results[\"gpu_umap\"] = time.time() - start_time\n",
    "    # results[\"gpu_memory_umap\"] = get_gpu_utilization()\n",
    "\n",
    "    return results\n",
    "\n",
    "# PCA analysis (CPU & GPU)\n",
    "def pca_analysis(genotype_cpu, genotype_gpu):\n",
    "    results = {}\n",
    "\n",
    "    # CPU PCA\n",
    "    start_time = time.time()\n",
    "    pca_cpu = PCA_CPU(n_components=10)\n",
    "    pca_cpu.fit_transform(genotype_cpu)\n",
    "    results[\"cpu_pca\"] = time.time() - start_time\n",
    "    # results[\"cpu_memory_pca\"] = get_memory_and_cpu_usage()\n",
    "\n",
    "    # GPU PCA\n",
    "    start_time = time.time()\n",
    "    pca_gpu = PCA_GPU(n_components=10)\n",
    "    pca_gpu.fit_transform(genotype_gpu)\n",
    "    results[\"gpu_pca\"] = time.time() - start_time\n",
    "    # results[\"gpu_memory_pca\"] = get_gpu_utilization()\n",
    "\n",
    "    return results\n",
    "\n",
    "# GWAS analysis (CPU & GPU)\n",
    "def gwas_analysis(genotype_cpu, genotype_gpu, phenotype_cpu, phenotype_gpu):\n",
    "    results = {}\n",
    "\n",
    "    # CPU GWAS\n",
    "    start_time = time.time()\n",
    "    scaler_cpu = MinMaxScaler_CPU()\n",
    "    genotype_scaled_cpu = scaler_cpu.fit_transform(genotype_cpu)\n",
    "    log_reg_cpu = LogisticRegression_CPU(penalty='l2', max_iter=10000)\n",
    "    log_reg_cpu.fit(genotype_scaled_cpu, phenotype_cpu)\n",
    "    results[\"cpu_gwas\"] = time.time() - start_time\n",
    "    # results[\"cpu_memory_gwas\"] = get_memory_and_cpu_usage()\n",
    "\n",
    "    # GPU GWAS\n",
    "    start_time = time.time()\n",
    "    scaler_gpu = MinMaxScaler_GPU()\n",
    "    genotype_scaled_gpu = scaler_gpu.fit_transform(genotype_gpu)\n",
    "    log_reg_gpu = LogisticRegression_GPU(penalty='l2', max_iter=10000)\n",
    "    log_reg_gpu.fit(genotype_scaled_gpu, phenotype_gpu)\n",
    "    results[\"gpu_gwas\"] = time.time() - start_time\n",
    "    # results[\"gpu_memory_gwas\"] = get_gpu_utilization()\n",
    "\n",
    "    return results\n",
    "\n",
    "# Central benchmarking function\n",
    "def benchmark_methods(genotype_matrix_cpu, phenotype_data_cpu, genotype_matrix_gpu, phenotype_data_gpu, method):\n",
    "    all_results = {}\n",
    "\n",
    "    if method == \"tsne\":\n",
    "        all_results[method] = tsne_analysis(genotype_matrix_cpu, genotype_matrix_gpu)\n",
    "    elif method == \"umap\":\n",
    "        all_results[method] = umap_analysis(genotype_matrix_cpu, genotype_matrix_gpu)\n",
    "    elif method == \"pca\":\n",
    "        all_results[method] = pca_analysis(genotype_matrix_cpu, genotype_matrix_gpu)\n",
    "    elif method == \"gwas\":\n",
    "        all_results[method] = gwas_analysis(genotype_matrix_cpu, genotype_matrix_gpu, phenotype_data_cpu, phenotype_data_gpu)\n",
    "    \n",
    "    return all_results\n"
   ]
  },
  {
   "cell_type": "code",
   "execution_count": null,
   "metadata": {},
   "outputs": [],
   "source": []
  },
  {
   "cell_type": "code",
   "execution_count": null,
   "metadata": {},
   "outputs": [],
   "source": []
  },
  {
   "cell_type": "code",
   "execution_count": null,
   "metadata": {
    "colab": {
     "base_uri": "https://localhost:8080/"
    },
    "id": "i3twLoPBiGRo",
    "outputId": "3272554d-6b54-421a-cf02-bd48daee4955"
   },
   "outputs": [],
   "source": [
    "%%time\n",
    "n_samples = [1000, 5000]\n",
    "n_snps = [1000, 5000, 10000, 50000, 100000]\n",
    "\n",
    "# List of methods to benchmark\n",
    "methods_to_benchmark = [\"tsne\", \"umap\", \"pca\", \"gwas\"]\n",
    "\n",
    "# Store results for each dataset size\n",
    "benchmarking_results = {}\n",
    "\n",
    "for sample in n_samples:\n",
    "    # Initialize the inner dictionary for each sample size\n",
    "    if sample not in benchmarking_results:\n",
    "        benchmarking_results[sample] = {}\n",
    "    for snp in n_snps:\n",
    "        print(f\"############ Running benchmark for dataset with {sample} samples and {snp} SNPs... ############\")\n",
    "        # Generate the synthetic data for the current size\n",
    "        genotype_matrix_cpu, phenotype_data_cpu, genotype_matrix_gpu, phenotype_data_gpu = generate_synthetic_data(sample, snp)\n",
    "        \n",
    "        # Initialize dictionary for each snp size if not done already\n",
    "        if snp not in benchmarking_results[sample]:\n",
    "            benchmarking_results[sample][snp] = {}\n",
    "        \n",
    "        for method in methods_to_benchmark:\n",
    "            print(\"size of matrix: \", genotype_matrix_cpu.nbytes / (1024 * 1024))\n",
    "            mem_free, mem_total = cp.cuda.Device().mem_info  # Get free and total memory\n",
    "            mem_used = (mem_total - mem_free) / (1024 * 1024)\n",
    "            print(\"free mem used before clearing:\", mem_free/(1024*1024))\n",
    "            # Clear GPU memory after PCA operation\n",
    "            rmm.reinitialize()\n",
    "            cp.get_default_memory_pool().free_all_blocks()\n",
    "            mem_free, mem_total = cp.cuda.Device().mem_info  # Get free and total memory\n",
    "            print(\"free mem used after clearing:\", mem_free/(1024*1024))\n",
    "            print(method)\n",
    "            # Call the benchmark_methods function with the specified methods and store the results\n",
    "            try:\n",
    "                # Merge the result from the method into the current snp dictionary\n",
    "                method_results = benchmark_methods(genotype_matrix_cpu, phenotype_data_cpu, genotype_matrix_gpu, phenotype_data_gpu, method)\n",
    "                benchmarking_results[sample][snp].update(method_results)\n",
    "            except Exception as e:\n",
    "                print(f\"Error during benchmarking for {sample} samples and {snp} SNPs and {method}: {str(e)}\")\n",
    "                benchmarking_results[sample][snp][method] = str(e)\n",
    "        \n",
    "        # Store the size of the matrix in MB\n",
    "        benchmarking_results[sample][snp][\"size_in_mb\"] = genotype_matrix_cpu.nbytes / (1024 * 1024)  # Convert bytes to MB"
   ]
  },
  {
   "cell_type": "code",
   "execution_count": null,
   "metadata": {
    "id": "OcRsaiu4iGBQ"
   },
   "outputs": [],
   "source": [
    "benchmarking_results"
   ]
  },
  {
   "cell_type": "code",
   "execution_count": null,
   "metadata": {
    "id": "f5O5pKgfiF9n"
   },
   "outputs": [],
   "source": []
  },
  {
   "cell_type": "code",
   "execution_count": null,
   "metadata": {
    "id": "qarLaHgXiF3B"
   },
   "outputs": [],
   "source": []
  },
  {
   "cell_type": "code",
   "execution_count": null,
   "metadata": {
    "id": "VCBbE15miFzW"
   },
   "outputs": [],
   "source": [
    "# Reformat the data into the desired format with error handling for failed operations\n",
    "formatted_data = []\n",
    "\n",
    "for samples, snps_dict in benchmarking_results.items():\n",
    "    for snps, methods in snps_dict.items():\n",
    "        row = {\n",
    "            \"samples\": samples,\n",
    "            \"snps\": snps,\n",
    "            \"size_in_mb\": methods.get('size_in_mb', None),\n",
    "            \"cpu_tsne\": methods.get('tsne', {}).get('cpu_tsne', \"error\"),\n",
    "            \"gpu_tsne\": methods.get('tsne', {}).get('gpu_tsne', \"error\"),\n",
    "            \"cpu_umap\": methods.get('umap', {}).get('cpu_umap', \"error\"),\n",
    "            \"gpu_umap\": methods.get('umap', {}).get('gpu_umap', \"error\"),\n",
    "            \"cpu_pca\": methods['pca'].get('cpu_pca', \"error\") if isinstance(methods.get('pca'), dict) else \"error\",\n",
    "            \"gpu_pca\": methods['pca'].get('gpu_pca', \"error\") if isinstance(methods.get('pca'), dict) else \"error\",\n",
    "            \"cpu_gwas\": methods.get('gwas', {}).get('cpu_gwas', \"error\"),\n",
    "            \"gpu_gwas\": methods.get('gwas', {}).get('gpu_gwas', \"error\")\n",
    "        }\n",
    "        formatted_data.append(row)\n",
    "\n",
    "# Create a DataFrame from the formatted data\n",
    "df_full_formatted = pd.DataFrame(formatted_data)\n",
    "df_full_formatted"
   ]
  },
  {
   "cell_type": "code",
   "execution_count": null,
   "metadata": {},
   "outputs": [],
   "source": [
    "import matplotlib.pyplot as plt\n",
    "\n",
    "# Convert 'error' values to None (to handle plotting)\n",
    "for key in ['cpu_pca', 'gpu_pca']:\n",
    "    df_full_formatted[key] = [float(x) if x != 'error' else None for x in df_full_formatted[key]]\n",
    "\n",
    "# Create subplots for the four methods: t-SNE, UMAP, PCA, GWAS\n",
    "fig, axs = plt.subplots(4, 2, figsize=(12, 16))\n",
    "\n",
    "# Plot t-SNE\n",
    "axs[0, 0].plot(df_full_formatted['snps'][:5], df_full_formatted['cpu_tsne'][:5], label='CPU t-SNE', marker='o')\n",
    "axs[0, 0].plot(df_full_formatted['snps'][:5], df_full_formatted['gpu_tsne'][:5], label='GPU t-SNE', marker='o')\n",
    "axs[0, 0].set_title('t-SNE (1000 samples)')\n",
    "axs[0, 0].set_xlabel('SNPs')\n",
    "axs[0, 0].set_ylabel('Run Time (s)')\n",
    "axs[0, 0].legend()\n",
    "\n",
    "axs[0, 1].plot(df_full_formatted['snps'][5:], df_full_formatted['cpu_tsne'][5:], label='CPU t-SNE', marker='o')\n",
    "axs[0, 1].plot(df_full_formatted['snps'][5:], df_full_formatted['gpu_tsne'][5:], label='GPU t-SNE', marker='o')\n",
    "axs[0, 1].set_title('t-SNE (5000 samples)')\n",
    "axs[0, 1].set_xlabel('SNPs')\n",
    "axs[0, 1].set_ylabel('Run Time (s)')\n",
    "axs[0, 1].legend()\n",
    "\n",
    "# Plot UMAP\n",
    "axs[1, 0].plot(df_full_formatted['snps'][:5], df_full_formatted['cpu_umap'][:5], label='CPU UMAP', marker='o')\n",
    "axs[1, 0].plot(df_full_formatted['snps'][:5], df_full_formatted['gpu_umap'][:5], label='GPU UMAP', marker='o')\n",
    "axs[1, 0].set_title('UMAP (1000 samples)')\n",
    "axs[1, 0].set_xlabel('SNPs')\n",
    "axs[1, 0].set_ylabel('Run Time (s)')\n",
    "axs[1, 0].legend()\n",
    "\n",
    "axs[1, 1].plot(df_full_formatted['snps'][5:], df_full_formatted['cpu_umap'][5:], label='CPU UMAP', marker='o')\n",
    "axs[1, 1].plot(df_full_formatted['snps'][5:], df_full_formatted['gpu_umap'][5:], label='GPU UMAP', marker='o')\n",
    "axs[1, 1].set_title('UMAP (5000 samples)')\n",
    "axs[1, 1].set_xlabel('SNPs')\n",
    "axs[1, 1].set_ylabel('Run Time (s)')\n",
    "axs[1, 1].legend()\n",
    "\n",
    "# Plot PCA\n",
    "axs[2, 0].plot(df_full_formatted['snps'][:5], df_full_formatted['cpu_pca'][:5], label='CPU PCA', marker='o')\n",
    "axs[2, 0].plot(df_full_formatted['snps'][:5], df_full_formatted['gpu_pca'][:5], label='GPU PCA', marker='o')\n",
    "axs[2, 0].set_title('PCA (1000 samples)')\n",
    "axs[2, 0].set_xlabel('SNPs')\n",
    "axs[2, 0].set_ylabel('Run Time (s)')\n",
    "axs[2, 0].legend()\n",
    "\n",
    "axs[2, 1].plot(df_full_formatted['snps'][5:], df_full_formatted['cpu_pca'][5:], label='CPU PCA', marker='o')\n",
    "axs[2, 1].plot(df_full_formatted['snps'][5:], df_full_formatted['gpu_pca'][5:], label='GPU PCA', marker='o')\n",
    "axs[2, 1].set_title('PCA (5000 samples)')\n",
    "axs[2, 1].set_xlabel('SNPs')\n",
    "axs[2, 1].set_ylabel('Run Time (s)')\n",
    "axs[2, 1].legend()\n",
    "\n",
    "# Plot GWAS\n",
    "axs[3, 0].plot(df_full_formatted['snps'][:5], df_full_formatted['cpu_gwas'][:5], label='CPU GWAS', marker='o')\n",
    "axs[3, 0].plot(df_full_formatted['snps'][:5], df_full_formatted['gpu_gwas'][:5], label='GPU GWAS', marker='o')\n",
    "axs[3, 0].set_title('GWAS (1000 samples)')\n",
    "axs[3, 0].set_xlabel('SNPs')\n",
    "axs[3, 0].set_ylabel('Run Time (s)')\n",
    "axs[3, 0].legend()\n",
    "\n",
    "axs[3, 1].plot(df_full_formatted['snps'][5:], df_full_formatted['cpu_gwas'][5:], label='CPU GWAS', marker='o')\n",
    "axs[3, 1].plot(df_full_formatted['snps'][5:], df_full_formatted['gpu_gwas'][5:], label='GPU GWAS', marker='o')\n",
    "axs[3, 1].set_title('GWAS (5000 samples)')\n",
    "axs[3, 1].set_xlabel('SNPs')\n",
    "axs[3, 1].set_ylabel('Run Time (s)')\n",
    "axs[3, 1].legend()\n",
    "\n",
    "# Adjust layout and display\n",
    "plt.tight_layout()\n",
    "plt.show()\n"
   ]
  },
  {
   "cell_type": "code",
   "execution_count": null,
   "metadata": {},
   "outputs": [],
   "source": [
    "import matplotlib.pyplot as plt\n",
    "import numpy as np\n",
    "\n",
    "# Colors for Intel and Nvidia\n",
    "intel_blue = '#0071C5'\n",
    "nvidia_green = '#76B900'\n",
    "\n",
    "# Bar width for the bars\n",
    "bar_width = 0.35\n",
    "# Labels for x-axis ticks\n",
    "snps_labels_1000 = [str(x) for x in df_full_formatted['snps'][:5]]\n",
    "snps_labels_5000 = [str(x) for x in df_full_formatted['snps'][5:]]\n",
    "\n",
    "def add_annotations(ax, rects):\n",
    "    \"\"\"Attach a text label above each bar in *rects*, displaying its height.\"\"\"\n",
    "    for rect in rects:\n",
    "        height = rect.get_height()\n",
    "        if height is not None:\n",
    "            ax.annotate(f'{height:.2f}',\n",
    "                        xy=(rect.get_x() + rect.get_width() / 2, height),\n",
    "                        xytext=(0, 3),  # 3 points vertical offset\n",
    "                        textcoords=\"offset points\",\n",
    "                        ha='center', va='bottom')\n",
    "\n",
    "def plot_and_save(cpu_df_full_formatted, gpu_df_full_formatted, title, filename, snps_labels_1000, snps_labels_5000):\n",
    "    fig, axs = plt.subplots(1, 2, figsize=(12, 6))\n",
    "    \n",
    "    # Filter out None values for 1000 samples\n",
    "    cpu_df_full_formatted_1000 = [d for d in cpu_df_full_formatted[:5] if d is not None]\n",
    "    gpu_df_full_formatted_1000 = [d for d in gpu_df_full_formatted[:5] if d is not None]\n",
    "    valid_snps_1000 = [s for s, d in zip(snps_labels_1000, cpu_df_full_formatted[:5]) if d is not None]\n",
    "\n",
    "    # Plot for 1000 samples\n",
    "    x = np.arange(len(valid_snps_1000))\n",
    "    cpu_rects_1000 = axs[0].bar(x - bar_width/2, cpu_df_full_formatted_1000, bar_width, label='CPU', color=intel_blue)\n",
    "    gpu_rects_1000 = axs[0].bar(x + bar_width/2, gpu_df_full_formatted_1000, bar_width, label='GPU', color=nvidia_green)\n",
    "    axs[0].set_title(f'{title} (1000 samples)')\n",
    "    axs[0].set_xlabel('SNPs')\n",
    "    axs[0].set_ylabel('Run Time (s)')\n",
    "    axs[0].set_xticks(x)\n",
    "    axs[0].set_xticklabels(valid_snps_1000)\n",
    "    axs[0].legend()\n",
    "    add_annotations(axs[0], cpu_rects_1000)\n",
    "    add_annotations(axs[0], gpu_rects_1000)\n",
    "\n",
    "    # Filter out None values for 5000 samples\n",
    "    cpu_df_full_formatted_5000 = [d for d in cpu_df_full_formatted[5:] if d is not None]\n",
    "    gpu_df_full_formatted_5000 = [d for d in gpu_df_full_formatted[5:] if d is not None]\n",
    "    valid_snps_5000 = [s for s, d in zip(snps_labels_5000, cpu_df_full_formatted[5:]) if d is not None]\n",
    "\n",
    "    # Plot for 5000 samples\n",
    "    x = np.arange(len(valid_snps_5000))\n",
    "    cpu_rects_5000 = axs[1].bar(x - bar_width/2, cpu_df_full_formatted_5000, bar_width, label='CPU', color=intel_blue)\n",
    "    gpu_rects_5000 = axs[1].bar(x + bar_width/2, gpu_df_full_formatted_5000, bar_width, label='GPU', color=nvidia_green)\n",
    "    axs[1].set_title(f'{title} (5000 samples)')\n",
    "    axs[1].set_xlabel('SNPs')\n",
    "    axs[1].set_ylabel('Run Time (s)')\n",
    "    axs[1].set_xticks(x)\n",
    "    axs[1].set_xticklabels(valid_snps_5000)\n",
    "    axs[1].legend()\n",
    "    add_annotations(axs[1], cpu_rects_5000)\n",
    "    add_annotations(axs[1], gpu_rects_5000)\n",
    "\n",
    "    # Adjust layout and save the figure\n",
    "    plt.tight_layout()\n",
    "    plt.savefig(filename)\n",
    "    plt.close()\n",
    "\n",
    "# Save each method as a separate PNG file\n",
    "plot_and_save(df_full_formatted['cpu_tsne'], df_full_formatted['gpu_tsne'], 't-SNE', 'tsne.png', snps_labels_1000, snps_labels_5000)\n",
    "plot_and_save(df_full_formatted['cpu_umap'], df_full_formatted['gpu_umap'], 'UMAP', 'umap.png', snps_labels_1000, snps_labels_5000)\n",
    "plot_and_save(df_full_formatted['cpu_pca'], df_full_formatted['gpu_pca'], 'PCA', 'pca.png', snps_labels_1000, snps_labels_5000)\n",
    "plot_and_save(df_full_formatted['cpu_gwas'], df_full_formatted['gpu_gwas'], 'GWAS', 'gwas.png', snps_labels_1000, snps_labels_5000)\n"
   ]
  },
  {
   "cell_type": "code",
   "execution_count": null,
   "metadata": {},
   "outputs": [],
   "source": []
  }
 ],
 "metadata": {
  "accelerator": "GPU",
  "colab": {
   "gpuType": "T4",
   "provenance": []
  },
  "kernelspec": {
   "display_name": "Python 3 (ipykernel)",
   "language": "python",
   "name": "python3"
  },
  "language_info": {
   "codemirror_mode": {
    "name": "ipython",
    "version": 3
   },
   "file_extension": ".py",
   "mimetype": "text/x-python",
   "name": "python",
   "nbconvert_exporter": "python",
   "pygments_lexer": "ipython3",
   "version": "3.11.10"
  }
 },
 "nbformat": 4,
 "nbformat_minor": 4
}
